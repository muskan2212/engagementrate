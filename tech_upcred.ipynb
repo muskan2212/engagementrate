{
 "cells": [
  {
   "cell_type": "code",
   "execution_count": 5,
   "metadata": {},
   "outputs": [],
   "source": [
    "import numpy as np\n",
    "import pandas as pd"
   ]
  },
  {
   "cell_type": "code",
   "execution_count": 6,
   "metadata": {},
   "outputs": [],
   "source": [
    "dataset = pd.read_csv(\"C:/Users/hp/OneDrive/Desktop/engagement_rate.csv\")"
   ]
  },
  {
   "cell_type": "code",
   "execution_count": 7,
   "metadata": {},
   "outputs": [
    {
     "name": "stdout",
     "output_type": "stream",
     "text": [
      "                  name  followers   type     about  location   rate\n",
      "0   jewellery_seller01      54900   post     macro     India   5.27\n",
      "1         attitude3753        142   post      nano     India   8.75\n",
      "2               amazon    3200000  reels      mega     India   0.09\n",
      "3    dress_universe_01      16900   post     micro     India  13.79\n",
      "4          gadgets_now      35800   post     micro     India   3.50\n",
      "5          realmeindia    1600000   post      mega     India   0.56\n",
      "6              mynykaa    2250000  reels      mega     India   0.08\n",
      "7      technicalguruji    2450000   post      mega     India   9.73\n",
      "8     new_collection_8      63900   post  mid-tier     India   0.82\n",
      "9          facts_trend     253000   swip  mid-tier     India  15.37\n",
      "10    kapilsharma_fan_      16200  reels     micro     India  77.50\n",
      "11     musical_station      57000  reels  mid-tier     India   4.19\n",
      "12        sunlight.art     818000   swip     macro     India   2.13\n",
      "13      tellytalkindia     178000  reels  mid-tier     India   0.09\n",
      "14         blinkcrafty     358000   swip  mid-tier     India   0.93\n",
      "15  Islamic collection       8842   post      nano  pakistan  19.50\n",
      "16  shrangar_wali_kali       6567  reels      nano     India  14.74\n",
      "17    datasciencebrain      33000   swip     micro     India   1.49\n",
      "18            ml.india     251000   post  mid-tier     India   0.51\n",
      "19           tcsglobal     139000  reels  mid-tier     India   1.43\n",
      "20             tcsw10k      11400   post     micro     India   1.46\n",
      "21           ratantata    4600000   post      mega     India  19.12\n",
      "22         teslamotors    8700000  reels      mega   germany   2.84\n",
      "23    germany.explorer     168000   post  mid-tier   germany   4.72\n",
      "24    indianarmy.adgpi    8400000   swip      mega     India   1.11\n",
      "25         akshaykumar   55500000  reels      mega     India   2.23\n",
      "26    instantbollywood    7600000  reels      mega     India   1.97\n"
     ]
    }
   ],
   "source": [
    "x = dataset.iloc[:,1:-1]\n",
    "y = dataset.rate\n",
    "#print(y) \n",
    "#print(x)\n",
    "print(dataset)"
   ]
  },
  {
   "cell_type": "code",
   "execution_count": 8,
   "metadata": {},
   "outputs": [
    {
     "name": "stdout",
     "output_type": "stream",
     "text": [
      "['type', 'about', 'location']\n"
     ]
    }
   ],
   "source": [
    "s = (x.dtypes == 'object')\n",
    "object_cols = list(s[s].index)\n",
    "print(object_cols)"
   ]
  },
  {
   "cell_type": "code",
   "execution_count": 9,
   "metadata": {},
   "outputs": [],
   "source": [
    "from sklearn.preprocessing import OrdinalEncoder"
   ]
  },
  {
   "cell_type": "code",
   "execution_count": 10,
   "metadata": {},
   "outputs": [
    {
     "name": "stdout",
     "output_type": "stream",
     "text": [
      "    followers  type  about  location\n",
      "0       54900     0      0         0\n",
      "1         142     0      4         0\n",
      "2     3200000     1      1         0\n",
      "3       16900     0      2         0\n",
      "4       35800     0      2         0\n",
      "5     1600000     0      1         0\n",
      "6     2250000     1      1         0\n",
      "7     2450000     0      1         0\n",
      "8       63900     0      3         0\n",
      "9      253000     2      3         0\n",
      "10      16200     1      2         0\n",
      "11      57000     1      3         0\n",
      "12     818000     2      0         0\n",
      "13     178000     1      3         0\n",
      "14     358000     2      3         0\n",
      "15       8842     0      4         2\n",
      "16       6567     1      4         0\n",
      "17      33000     2      2         0\n",
      "18     251000     0      3         0\n",
      "19     139000     1      3         0\n",
      "20      11400     0      2         0\n",
      "21    4600000     0      1         0\n",
      "22    8700000     1      1         1\n",
      "23     168000     0      3         1\n",
      "24    8400000     2      1         0\n",
      "25   55500000     1      1         0\n",
      "26    7600000     1      1         0\n"
     ]
    }
   ],
   "source": [
    "ordinal_encoder = OrdinalEncoder()\n",
    "x[object_cols] = ordinal_encoder.fit_transform(x[object_cols]).astype(int)\n",
    "print(x)\n"
   ]
  },
  {
   "cell_type": "code",
   "execution_count": 11,
   "metadata": {},
   "outputs": [],
   "source": [
    "from sklearn.model_selection import train_test_split"
   ]
  },
  {
   "cell_type": "code",
   "execution_count": 12,
   "metadata": {},
   "outputs": [],
   "source": [
    "x_train,x_test,y_train,y_test = train_test_split(x,y,train_size =0.8 ,random_state = 0 )"
   ]
  },
  {
   "cell_type": "code",
   "execution_count": 13,
   "metadata": {},
   "outputs": [],
   "source": [
    "from sklearn.ensemble import RandomForestRegressor"
   ]
  },
  {
   "cell_type": "code",
   "execution_count": 14,
   "metadata": {},
   "outputs": [],
   "source": [
    "model = RandomForestRegressor()"
   ]
  },
  {
   "cell_type": "code",
   "execution_count": 15,
   "metadata": {},
   "outputs": [
    {
     "data": {
      "text/plain": [
       "RandomForestRegressor()"
      ]
     },
     "execution_count": 15,
     "metadata": {},
     "output_type": "execute_result"
    }
   ],
   "source": [
    "model.fit( x_train , y_train )"
   ]
  },
  {
   "cell_type": "code",
   "execution_count": 16,
   "metadata": {},
   "outputs": [],
   "source": [
    "pred = model.predict(x_test)"
   ]
  },
  {
   "cell_type": "code",
   "execution_count": 17,
   "metadata": {},
   "outputs": [],
   "source": [
    "from sklearn.metrics import mean_squared_error\n"
   ]
  },
  {
   "cell_type": "code",
   "execution_count": 18,
   "metadata": {},
   "outputs": [],
   "source": [
    "acc = mean_squared_error(y_test , pred)\n"
   ]
  },
  {
   "cell_type": "code",
   "execution_count": 19,
   "metadata": {},
   "outputs": [
    {
     "name": "stdout",
     "output_type": "stream",
     "text": [
      "accuracy:  76.57%\n"
     ]
    }
   ],
   "source": [
    "print(\"accuracy: {: .2f}%\".format(acc))"
   ]
  },
  {
   "cell_type": "code",
   "execution_count": 21,
   "metadata": {},
   "outputs": [
    {
     "name": "stdout",
     "output_type": "stream",
     "text": [
      "enter followers:161000\n",
      "enter type << 0-post , 1- reels , 2-swip >>:1\n",
      "enter brand<< 0-macro , 1-nano , 2- mega , 3- micro , 4 - mid-tier>>:4\n",
      "enter location<<0-India , 1- Pakistan , 2 - germany:0\n",
      "[2.0803]\n"
     ]
    }
   ],
   "source": [
    "folls = int(input(\"enter followers:\"))\n",
    "typ = int(input(\"enter type << 0-post , 1- reels , 2-swip >>:\"))\n",
    "brand = int(input(\"enter brand<< 0-macro , 1-nano , 2- mega , 3- micro , 4 - mid-tier>>:\"))\n",
    "loc =int(input(\"enter location<<0-India , 1- Pakistan , 2 - germany:\"))\n",
    "link = [[folls, typ, brand, loc]]\n",
    "result = model.predict(link)\n",
    "print(result)"
   ]
  },
  {
   "cell_type": "code",
   "execution_count": null,
   "metadata": {},
   "outputs": [],
   "source": []
  }
 ],
 "metadata": {
  "kernelspec": {
   "display_name": "Python 3",
   "language": "python",
   "name": "python3"
  },
  "language_info": {
   "codemirror_mode": {
    "name": "ipython",
    "version": 3
   },
   "file_extension": ".py",
   "mimetype": "text/x-python",
   "name": "python",
   "nbconvert_exporter": "python",
   "pygments_lexer": "ipython3",
   "version": "3.8.3"
  }
 },
 "nbformat": 4,
 "nbformat_minor": 4
}
